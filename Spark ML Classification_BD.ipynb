{
 "cells": [
  {
   "cell_type": "markdown",
   "id": "21fa80a7-32a2-42d3-b189-2a0ff40ac14d",
   "metadata": {},
   "source": [
    "#### Import modules"
   ]
  },
  {
   "cell_type": "code",
   "execution_count": 1,
   "id": "9e8fba60-5c12-411e-aa58-05db12fe2601",
   "metadata": {},
   "outputs": [],
   "source": [
    "def warn(*args, **kwargs):\n",
    "    pass\n",
    "import warnings\n",
    "warnings.warn = warn\n",
    "warnings.filterwarnings('ignore')\n",
    "\n",
    "import findspark\n",
    "findspark.init()\n",
    "\n",
    "from pyspark.sql import SparkSession\n",
    "from pyspark.ml.feature import StringIndexer\n",
    "from pyspark.ml.feature import VectorAssembler\n",
    "from pyspark.ml.classification import LogisticRegression\n",
    "\n",
    "# import functions/Classes for metrics\n",
    "from pyspark.ml.evaluation import MulticlassClassificationEvaluator"
   ]
  },
  {
   "cell_type": "markdown",
   "id": "ddc6ee5a-6e85-44ab-bd04-28e4d3a72e4a",
   "metadata": {},
   "source": [
    "#### Create Spark Session"
   ]
  },
  {
   "cell_type": "code",
   "execution_count": 2,
   "id": "c509e88c-7f35-4cc8-98fb-a23f23d4a330",
   "metadata": {},
   "outputs": [],
   "source": [
    "spark = SparkSession.builder.appName(\"Classification using SparkML\").getOrCreate()"
   ]
  },
  {
   "cell_type": "markdown",
   "id": "52787a71-d3ff-4150-8222-fa1c3f8fffca",
   "metadata": {},
   "source": [
    "#### Load the data"
   ]
  },
  {
   "cell_type": "code",
   "execution_count": 4,
   "id": "4245f591-35d3-4d91-b4d0-57ae242fd0c9",
   "metadata": {},
   "outputs": [],
   "source": [
    "bean_data = spark.read.csv('drybeans.csv', header=True, inferSchema=True)"
   ]
  },
  {
   "cell_type": "code",
   "execution_count": 5,
   "id": "db9a9f01-b754-4bae-bd39-a4002090989b",
   "metadata": {},
   "outputs": [
    {
     "name": "stdout",
     "output_type": "stream",
     "text": [
      "+-----+---------+---------------+---------------+------------+------------+----------+-------------+-----------+-----------+-----------+-----------+------------+------------+------------+------------+-----+\n",
      "| Area|Perimeter|MajorAxisLength|MinorAxisLength|AspectRation|Eccentricity|ConvexArea|EquivDiameter|     Extent|   Solidity|  roundness|Compactness|ShapeFactor1|ShapeFactor2|ShapeFactor3|ShapeFactor4|Class|\n",
      "+-----+---------+---------------+---------------+------------+------------+----------+-------------+-----------+-----------+-----------+-----------+------------+------------+------------+------------+-----+\n",
      "|28395|  610.291|    208.1781167|     173.888747| 1.197191424| 0.549812187|     28715|  190.1410973|0.763922518|0.988855999|0.958027126|0.913357755| 0.007331506| 0.003147289| 0.834222388| 0.998723889|SEKER|\n",
      "|28734|  638.018|    200.5247957|    182.7344194| 1.097356461| 0.411785251|     29172|  191.2727505|0.783968133|0.984985603|0.887033637|0.953860842| 0.006978659| 0.003563624| 0.909850506| 0.998430331|SEKER|\n",
      "|29380|   624.11|    212.8261299|    175.9311426| 1.209712656| 0.562727317|     29690|  193.4109041|0.778113248|0.989558774|0.947849473|0.908774239| 0.007243912| 0.003047733| 0.825870617| 0.999066137|SEKER|\n",
      "|30008|  645.884|     210.557999|    182.5165157| 1.153638059| 0.498615976|     30724|  195.4670618|0.782681273|0.976695743|0.903936374|0.928328835| 0.007016729| 0.003214562| 0.861794425| 0.994198849|SEKER|\n",
      "|30140|  620.134|    201.8478822|    190.2792788|  1.06079802| 0.333679658|     30417|   195.896503|0.773098035| 0.99089325|0.984877069|0.970515523|  0.00669701| 0.003664972| 0.941900381| 0.999166059|SEKER|\n",
      "+-----+---------+---------------+---------------+------------+------------+----------+-------------+-----------+-----------+-----------+-----------+------------+------------+------------+------------+-----+\n",
      "only showing top 5 rows\n",
      "\n"
     ]
    }
   ],
   "source": [
    "bean_data.show(5)"
   ]
  },
  {
   "cell_type": "code",
   "execution_count": 6,
   "id": "9efad8b7-ac0c-49f0-9d6c-8db3c5c0a182",
   "metadata": {},
   "outputs": [
    {
     "name": "stdout",
     "output_type": "stream",
     "text": [
      "root\n",
      " |-- Area: integer (nullable = true)\n",
      " |-- Perimeter: double (nullable = true)\n",
      " |-- MajorAxisLength: double (nullable = true)\n",
      " |-- MinorAxisLength: double (nullable = true)\n",
      " |-- AspectRation: double (nullable = true)\n",
      " |-- Eccentricity: double (nullable = true)\n",
      " |-- ConvexArea: integer (nullable = true)\n",
      " |-- EquivDiameter: double (nullable = true)\n",
      " |-- Extent: double (nullable = true)\n",
      " |-- Solidity: double (nullable = true)\n",
      " |-- roundness: double (nullable = true)\n",
      " |-- Compactness: double (nullable = true)\n",
      " |-- ShapeFactor1: double (nullable = true)\n",
      " |-- ShapeFactor2: double (nullable = true)\n",
      " |-- ShapeFactor3: double (nullable = true)\n",
      " |-- ShapeFactor4: double (nullable = true)\n",
      " |-- Class: string (nullable = true)\n",
      "\n"
     ]
    }
   ],
   "source": [
    "bean_data.printSchema()"
   ]
  },
  {
   "cell_type": "markdown",
   "id": "7b615048-9e14-4a6e-abc6-01cd55a5e1ac",
   "metadata": {},
   "source": [
    "##### Print top 5 rows of selected columns from the dataset"
   ]
  },
  {
   "cell_type": "code",
   "execution_count": 7,
   "id": "cca3c5d8-6ee2-4fe6-a0cd-6e2aee81d071",
   "metadata": {},
   "outputs": [
    {
     "name": "stdout",
     "output_type": "stream",
     "text": [
      "+-----+---------+-----------+-----------+-----------+-----+\n",
      "| Area|Perimeter|   Solidity|  roundness|Compactness|Class|\n",
      "+-----+---------+-----------+-----------+-----------+-----+\n",
      "|28395|  610.291|0.988855999|0.958027126|0.913357755|SEKER|\n",
      "|28734|  638.018|0.984985603|0.887033637|0.953860842|SEKER|\n",
      "|29380|   624.11|0.989558774|0.947849473|0.908774239|SEKER|\n",
      "|30008|  645.884|0.976695743|0.903936374|0.928328835|SEKER|\n",
      "|30140|  620.134| 0.99089325|0.984877069|0.970515523|SEKER|\n",
      "+-----+---------+-----------+-----------+-----------+-----+\n",
      "only showing top 5 rows\n",
      "\n"
     ]
    }
   ],
   "source": [
    "bean_data.select([\"Area\",\"Perimeter\",\"Solidity\",\"roundness\",\"Compactness\",\"Class\"]).show(5)"
   ]
  },
  {
   "cell_type": "markdown",
   "id": "2ceec272-b5ed-46e9-a2ed-aff21248c00e",
   "metadata": {},
   "source": [
    "##### Print the value counts for the column 'Class'"
   ]
  },
  {
   "cell_type": "code",
   "execution_count": 8,
   "id": "e8fa0a27-fa90-40f8-9d07-fb90224d90bd",
   "metadata": {},
   "outputs": [
    {
     "name": "stdout",
     "output_type": "stream",
     "text": [
      "+--------+-----+\n",
      "|   Class|count|\n",
      "+--------+-----+\n",
      "|  BOMBAY|  522|\n",
      "|BARBUNYA| 1322|\n",
      "|    CALI| 1630|\n",
      "|   HOROZ| 1928|\n",
      "|   SEKER| 2027|\n",
      "|    SIRA| 2636|\n",
      "|DERMASON| 3546|\n",
      "+--------+-----+\n",
      "\n"
     ]
    }
   ],
   "source": [
    "bean_data.groupBy('Class').count().orderBy('count').show()"
   ]
  },
  {
   "cell_type": "markdown",
   "id": "ce0f8cd4-218a-475a-9202-7996caaf1c7a",
   "metadata": {},
   "source": [
    "##### Convert the string column \"Class\" into a numberic column named \"Label\""
   ]
  },
  {
   "cell_type": "code",
   "execution_count": 9,
   "id": "837867fc-112a-4804-b09a-aa173ea900ba",
   "metadata": {},
   "outputs": [],
   "source": [
    "indexer = StringIndexer(inputCol='Class', outputCol='Label')\n",
    "\n",
    "bean_data = indexer.fit(bean_data).transform(bean_data)"
   ]
  },
  {
   "cell_type": "markdown",
   "id": "7705bf9a-93ec-4d19-830e-e4f5075e4f04",
   "metadata": {},
   "source": [
    "##### Print the value counts for the column 'label'"
   ]
  },
  {
   "cell_type": "code",
   "execution_count": 10,
   "id": "e9f31577-1a31-42ce-bc2d-57dc05c3d09b",
   "metadata": {},
   "outputs": [
    {
     "name": "stdout",
     "output_type": "stream",
     "text": [
      "+-----+-----+\n",
      "|Label|count|\n",
      "+-----+-----+\n",
      "|  6.0|  522|\n",
      "|  5.0| 1322|\n",
      "|  4.0| 1630|\n",
      "|  3.0| 1928|\n",
      "|  2.0| 2027|\n",
      "|  1.0| 2636|\n",
      "|  0.0| 3546|\n",
      "+-----+-----+\n",
      "\n"
     ]
    }
   ],
   "source": [
    "bean_data.groupBy('Label').count().orderBy('count').show()"
   ]
  },
  {
   "cell_type": "markdown",
   "id": "e8e7e8e4-563b-4384-a241-9041ca887314",
   "metadata": {},
   "source": [
    "#### Extract target and feature columns"
   ]
  },
  {
   "cell_type": "code",
   "execution_count": 11,
   "id": "90661208-e741-489e-aaa3-d670b1c31f16",
   "metadata": {},
   "outputs": [],
   "source": [
    "assembler = VectorAssembler(inputCols=[\"Area\",\"Perimeter\",\"Solidity\",\"roundness\",\"Compactness\"], outputCol=\"features\")\n",
    "\n",
    "beans_transformed_data = assembler.transform(bean_data)"
   ]
  },
  {
   "cell_type": "code",
   "execution_count": 15,
   "id": "bab2dab9-0d25-437a-8e6a-0a69966a9ea6",
   "metadata": {},
   "outputs": [
    {
     "name": "stdout",
     "output_type": "stream",
     "text": [
      "+--------------------+-----+\n",
      "|            features|Label|\n",
      "+--------------------+-----+\n",
      "|[28395.0,610.291,...|  2.0|\n",
      "|[28734.0,638.018,...|  2.0|\n",
      "|[29380.0,624.11,0...|  2.0|\n",
      "|[30008.0,645.884,...|  2.0|\n",
      "|[30140.0,620.134,...|  2.0|\n",
      "|[30279.0,634.927,...|  2.0|\n",
      "|[30477.0,670.033,...|  2.0|\n",
      "|[30519.0,629.727,...|  2.0|\n",
      "|[30685.0,635.681,...|  2.0|\n",
      "|[30834.0,631.934,...|  2.0|\n",
      "|[30917.0,640.765,...|  2.0|\n",
      "|[31091.0,638.558,...|  2.0|\n",
      "|[31107.0,640.594,...|  2.0|\n",
      "|[31158.0,642.626,...|  2.0|\n",
      "|[31158.0,641.105,...|  2.0|\n",
      "|[31178.0,636.888,...|  2.0|\n",
      "|[31202.0,644.454,...|  2.0|\n",
      "|[31203.0,639.782,...|  2.0|\n",
      "|[31272.0,638.666,...|  2.0|\n",
      "|[31335.0,635.011,...|  2.0|\n",
      "+--------------------+-----+\n",
      "only showing top 20 rows\n",
      "\n"
     ]
    }
   ],
   "source": [
    "beans_transformed_data.select(\"features\",\"Label\").show()"
   ]
  },
  {
   "cell_type": "markdown",
   "id": "8656dfeb-9ba4-43be-8819-471e07814946",
   "metadata": {},
   "source": [
    "#### Split the data"
   ]
  },
  {
   "cell_type": "code",
   "execution_count": 14,
   "id": "762e88bd-ceea-4be4-97ae-1b6e40bb923f",
   "metadata": {},
   "outputs": [],
   "source": [
    "(training_data, testing_data) = beans_transformed_data.randomSplit([0.7,0.3], seed=42)"
   ]
  },
  {
   "cell_type": "markdown",
   "id": "dd4aec7c-b2dd-471a-8b23-e876f0ae7273",
   "metadata": {},
   "source": [
    "#### Build and Train a Logistic Regression Model"
   ]
  },
  {
   "cell_type": "code",
   "execution_count": 16,
   "id": "b714990d-c0f7-4e5a-add7-c2b50b4f3e9a",
   "metadata": {},
   "outputs": [],
   "source": [
    "lr = LogisticRegression(featuresCol=\"features\", labelCol=\"Label\")"
   ]
  },
  {
   "cell_type": "code",
   "execution_count": 17,
   "id": "468dcfd3-5901-4146-81c8-4a92a0aa2c27",
   "metadata": {},
   "outputs": [],
   "source": [
    "model = lr.fit(training_data)"
   ]
  },
  {
   "cell_type": "markdown",
   "id": "814ca087-027e-4246-96c0-cefa3a2e6565",
   "metadata": {},
   "source": [
    "#### Evaluate the model"
   ]
  },
  {
   "cell_type": "code",
   "execution_count": 18,
   "id": "987d150c-e9d7-468b-bea4-fa8108aa47d1",
   "metadata": {},
   "outputs": [],
   "source": [
    "predictions = model.transform(testing_data)"
   ]
  },
  {
   "cell_type": "markdown",
   "id": "4968459d-988d-46d2-bdf7-af854eb6d6a2",
   "metadata": {},
   "source": [
    "##### Accuracy"
   ]
  },
  {
   "cell_type": "code",
   "execution_count": 22,
   "id": "74a47b6a-50d4-4670-b601-3aa3c7e8cafb",
   "metadata": {},
   "outputs": [
    {
     "name": "stdout",
     "output_type": "stream",
     "text": [
      "Accuracy = 0.9142569776213226\n"
     ]
    }
   ],
   "source": [
    "evaluator = MulticlassClassificationEvaluator(labelCol=\"Label\", predictionCol=\"prediction\", metricName=\"accuracy\")\n",
    "accuracy = evaluator.evaluate(predictions)\n",
    "print(\"Accuracy =\", accuracy)"
   ]
  },
  {
   "cell_type": "markdown",
   "id": "5869c3e1-4a6e-4c62-af5d-61d7e86277eb",
   "metadata": {},
   "source": [
    "##### Precision"
   ]
  },
  {
   "cell_type": "code",
   "execution_count": 23,
   "id": "134c11d5-81a9-4924-9efb-0b8bcc8437a5",
   "metadata": {},
   "outputs": [
    {
     "name": "stdout",
     "output_type": "stream",
     "text": [
      "Precision = 0.9147333452508383\n"
     ]
    }
   ],
   "source": [
    "evaluator = MulticlassClassificationEvaluator(labelCol=\"Label\", predictionCol=\"prediction\", metricName=\"weightedPrecision\")\n",
    "precision = evaluator.evaluate(predictions)\n",
    "print(\"Precision =\", precision)"
   ]
  },
  {
   "cell_type": "markdown",
   "id": "de7be896-8e5d-4747-8025-9f5e83f2156e",
   "metadata": {},
   "source": [
    "##### Recall"
   ]
  },
  {
   "cell_type": "code",
   "execution_count": 24,
   "id": "5b4a3221-0364-483b-8462-8adbcfbee88c",
   "metadata": {},
   "outputs": [
    {
     "name": "stdout",
     "output_type": "stream",
     "text": [
      "Recall = 0.9142569776213225\n"
     ]
    }
   ],
   "source": [
    "evaluator = MulticlassClassificationEvaluator(labelCol=\"Label\", predictionCol=\"prediction\", metricName=\"weightedRecall\")\n",
    "recall = evaluator.evaluate(predictions)\n",
    "print(\"Recall =\", recall)"
   ]
  },
  {
   "cell_type": "markdown",
   "id": "f84d8260-1f89-43c2-a227-111c7c83dd25",
   "metadata": {},
   "source": [
    "##### F1 Score"
   ]
  },
  {
   "cell_type": "code",
   "execution_count": 25,
   "id": "3af9d3ae-fc28-4455-9017-088ae3af9eb3",
   "metadata": {},
   "outputs": [
    {
     "name": "stdout",
     "output_type": "stream",
     "text": [
      "F1 score =  0.9143589035174375\n"
     ]
    }
   ],
   "source": [
    "evaluator = MulticlassClassificationEvaluator(labelCol=\"Label\", predictionCol=\"prediction\", metricName=\"f1\")\n",
    "f1_score = evaluator.evaluate(predictions)\n",
    "print(\"F1 score = \", f1_score)"
   ]
  },
  {
   "cell_type": "code",
   "execution_count": 26,
   "id": "bda934a3-3653-4dbb-9df8-1e5317125c6b",
   "metadata": {},
   "outputs": [],
   "source": [
    "spark.stop()"
   ]
  },
  {
   "cell_type": "code",
   "execution_count": null,
   "id": "407459f2-f96b-4e30-964c-63e8440b9067",
   "metadata": {},
   "outputs": [],
   "source": []
  }
 ],
 "metadata": {
  "kernelspec": {
   "display_name": "Python 3 (ipykernel)",
   "language": "python",
   "name": "python3"
  },
  "language_info": {
   "codemirror_mode": {
    "name": "ipython",
    "version": 3
   },
   "file_extension": ".py",
   "mimetype": "text/x-python",
   "name": "python",
   "nbconvert_exporter": "python",
   "pygments_lexer": "ipython3",
   "version": "3.11.6"
  }
 },
 "nbformat": 4,
 "nbformat_minor": 5
}
