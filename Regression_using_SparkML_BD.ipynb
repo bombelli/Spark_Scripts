{
 "cells": [
  {
   "cell_type": "code",
   "execution_count": 1,
   "id": "db53b86f-8d0d-41df-8bb2-077e12b30ece",
   "metadata": {},
   "outputs": [],
   "source": [
    "!pip install findspark -q"
   ]
  },
  {
   "cell_type": "code",
   "execution_count": 1,
   "id": "85b696a9-0ed6-4ce3-a809-15caccd3f399",
   "metadata": {},
   "outputs": [],
   "source": [
    "def warn(*args, **kwargs):\n",
    "    pass\n",
    "    \n",
    "import warnings\n",
    "warnings.warn = warn\n",
    "warnings.filterwarnings('ignore')"
   ]
  },
  {
   "cell_type": "markdown",
   "id": "ca8bce5e-bb32-44e7-ad11-6778ce59a2df",
   "metadata": {},
   "source": [
    "#### Importing Required Libraries"
   ]
  },
  {
   "cell_type": "code",
   "execution_count": 2,
   "id": "6da39705-db35-4c38-89fa-84e46c3397c8",
   "metadata": {},
   "outputs": [],
   "source": [
    "# FindSpark simplifies the process of using Apache Spark with Python\n",
    "\n",
    "import findspark\n",
    "findspark.init()\n",
    "\n",
    "from pyspark.sql import SparkSession\n",
    "\n",
    "#import functions/Classes for sparkml\n",
    "\n",
    "from pyspark.ml.feature import VectorAssembler\n",
    "from pyspark.ml.regression import LinearRegression\n",
    "\n",
    "# import functions/Classes for metrics\n",
    "from pyspark.ml.evaluation import RegressionEvaluator                   "
   ]
  },
  {
   "cell_type": "markdown",
   "id": "5e0f40df-fbdb-44a5-8c68-c3957d374033",
   "metadata": {},
   "source": [
    "#### Create a Spark session"
   ]
  },
  {
   "cell_type": "code",
   "execution_count": 3,
   "id": "39a7d8d9-f98d-4052-b76f-61a31785f5bd",
   "metadata": {},
   "outputs": [],
   "source": [
    "spark = SparkSession.builder.appName(\"Regression using SparkML\").getOrCreate()"
   ]
  },
  {
   "cell_type": "markdown",
   "id": "ba060c17-0092-4765-aadf-6e3bad91a480",
   "metadata": {},
   "source": [
    "#### Load the data in a csv file into a dataframe"
   ]
  },
  {
   "cell_type": "code",
   "execution_count": 4,
   "id": "60e5d28c-c001-4b42-a55c-db99eafcd98f",
   "metadata": {},
   "outputs": [
    {
     "name": "stderr",
     "output_type": "stream",
     "text": [
      "SYSTEM_WGETRC = c:/progra~1/wget/etc/wgetrc\n",
      "syswgetrc = C:\\Program Files (x86)\\Gow/etc/wgetrc\n",
      "--2025-05-15 13:23:14--  https://cf-courses-data.s3.us.cloud-object-storage.appdomain.cloud/IBM-BD0231EN-SkillsNetwork/datasets/mpg.csv\n",
      "Resolving cf-courses-data.s3.us.cloud-object-storage.appdomain.cloud... 169.63.118.104\n",
      "Connecting to cf-courses-data.s3.us.cloud-object-storage.appdomain.cloud|169.63.118.104|:443... connected.\n",
      "OpenSSL: error:140770FC:SSL routines:SSL23_GET_SERVER_HELLO:unknown protocol\n",
      "Unable to establish SSL connection.\n"
     ]
    }
   ],
   "source": [
    "#Download the file\n",
    "!wget https://cf-courses-data.s3.us.cloud-object-storage.appdomain.cloud/IBM-BD0231EN-SkillsNetwork/datasets/mpg.csv"
   ]
  },
  {
   "cell_type": "code",
   "execution_count": 5,
   "id": "ea1a494b-f51c-4dd3-9e66-cddb417b1c79",
   "metadata": {},
   "outputs": [],
   "source": [
    "# Load mpg dataset\n",
    "# the inferSchema = True, tells spark to automatically find out the data types of the columns.\n",
    "\n",
    "mpg_data = spark.read.csv(\"mpg.csv\", header=True, inferSchema=True)"
   ]
  },
  {
   "cell_type": "code",
   "execution_count": 6,
   "id": "fc5bc429-40ea-4a41-ae10-5b9ce8494a49",
   "metadata": {},
   "outputs": [
    {
     "name": "stdout",
     "output_type": "stream",
     "text": [
      "root\n",
      " |-- MPG: double (nullable = true)\n",
      " |-- Cylinders: integer (nullable = true)\n",
      " |-- Engine Disp: double (nullable = true)\n",
      " |-- Horsepower: integer (nullable = true)\n",
      " |-- Weight: integer (nullable = true)\n",
      " |-- Accelerate: double (nullable = true)\n",
      " |-- Year: integer (nullable = true)\n",
      " |-- Origin: string (nullable = true)\n",
      "\n"
     ]
    }
   ],
   "source": [
    "mpg_data.printSchema()"
   ]
  },
  {
   "cell_type": "code",
   "execution_count": 7,
   "id": "fde7b9dd-b11e-447f-8603-e35bf9ae6df8",
   "metadata": {},
   "outputs": [
    {
     "name": "stdout",
     "output_type": "stream",
     "text": [
      "+----+---------+-----------+----------+------+----------+----+--------+\n",
      "| MPG|Cylinders|Engine Disp|Horsepower|Weight|Accelerate|Year|  Origin|\n",
      "+----+---------+-----------+----------+------+----------+----+--------+\n",
      "|15.0|        8|      390.0|       190|  3850|       8.5|  70|American|\n",
      "|21.0|        6|      199.0|        90|  2648|      15.0|  70|American|\n",
      "|18.0|        6|      199.0|        97|  2774|      15.5|  70|American|\n",
      "|16.0|        8|      304.0|       150|  3433|      12.0|  70|American|\n",
      "|14.0|        8|      455.0|       225|  3086|      10.0|  70|American|\n",
      "+----+---------+-----------+----------+------+----------+----+--------+\n",
      "only showing top 5 rows\n",
      "\n"
     ]
    }
   ],
   "source": [
    "mpg_data.show(5)"
   ]
  },
  {
   "cell_type": "markdown",
   "id": "d5d725dc-b29a-40ff-8822-89440e24a8ff",
   "metadata": {},
   "source": [
    "#### Extract target and features"
   ]
  },
  {
   "cell_type": "code",
   "execution_count": 8,
   "id": "61451796-968a-4a38-b8b0-e319e16eb4cf",
   "metadata": {},
   "outputs": [],
   "source": [
    "# Prepare feature vector\n",
    "assembler = VectorAssembler(inputCols=[\"Cylinders\", \"Engine Disp\", \"Horsepower\", \"Weight\", \"Accelerate\", \"Year\"], outputCol=\"features\")\n",
    "mpg_transformed_data = assembler.transform(mpg_data)"
   ]
  },
  {
   "cell_type": "code",
   "execution_count": 9,
   "id": "d2e0989b-1fa1-4a3a-bcc8-45aa04d4f857",
   "metadata": {},
   "outputs": [
    {
     "name": "stdout",
     "output_type": "stream",
     "text": [
      "+--------------------+----+\n",
      "|            features| MPG|\n",
      "+--------------------+----+\n",
      "|[8.0,390.0,190.0,...|15.0|\n",
      "|[6.0,199.0,90.0,2...|21.0|\n",
      "|[6.0,199.0,97.0,2...|18.0|\n",
      "|[8.0,304.0,150.0,...|16.0|\n",
      "|[8.0,455.0,225.0,...|14.0|\n",
      "|[8.0,350.0,165.0,...|15.0|\n",
      "|[8.0,307.0,130.0,...|18.0|\n",
      "|[8.0,454.0,220.0,...|14.0|\n",
      "|[8.0,400.0,150.0,...|15.0|\n",
      "|[8.0,307.0,200.0,...|10.0|\n",
      "|[8.0,383.0,170.0,...|15.0|\n",
      "|[8.0,318.0,210.0,...|11.0|\n",
      "|[8.0,360.0,215.0,...|10.0|\n",
      "|[8.0,429.0,198.0,...|15.0|\n",
      "|[6.0,200.0,85.0,2...|21.0|\n",
      "|[8.0,302.0,140.0,...|17.0|\n",
      "|[8.0,304.0,193.0,...| 9.0|\n",
      "|[8.0,340.0,160.0,...|14.0|\n",
      "|[6.0,198.0,95.0,2...|22.0|\n",
      "|[8.0,440.0,215.0,...|14.0|\n",
      "+--------------------+----+\n",
      "only showing top 20 rows\n",
      "\n"
     ]
    }
   ],
   "source": [
    "#Display the assembled \"features\" and the label column \"MPG\"\n",
    "mpg_transformed_data.select(\"features\",\"MPG\").show()"
   ]
  },
  {
   "cell_type": "code",
   "execution_count": 10,
   "id": "b5352b04-c6de-4633-be84-8b42e79fe771",
   "metadata": {},
   "outputs": [
    {
     "name": "stdout",
     "output_type": "stream",
     "text": [
      "+----+---------+-----------+----------+------+----------+----+--------+--------------------+\n",
      "| MPG|Cylinders|Engine Disp|Horsepower|Weight|Accelerate|Year|  Origin|            features|\n",
      "+----+---------+-----------+----------+------+----------+----+--------+--------------------+\n",
      "|15.0|        8|      390.0|       190|  3850|       8.5|  70|American|[8.0,390.0,190.0,...|\n",
      "|21.0|        6|      199.0|        90|  2648|      15.0|  70|American|[6.0,199.0,90.0,2...|\n",
      "|18.0|        6|      199.0|        97|  2774|      15.5|  70|American|[6.0,199.0,97.0,2...|\n",
      "|16.0|        8|      304.0|       150|  3433|      12.0|  70|American|[8.0,304.0,150.0,...|\n",
      "|14.0|        8|      455.0|       225|  3086|      10.0|  70|American|[8.0,455.0,225.0,...|\n",
      "|15.0|        8|      350.0|       165|  3693|      11.5|  70|American|[8.0,350.0,165.0,...|\n",
      "|18.0|        8|      307.0|       130|  3504|      12.0|  70|American|[8.0,307.0,130.0,...|\n",
      "|14.0|        8|      454.0|       220|  4354|       9.0|  70|American|[8.0,454.0,220.0,...|\n",
      "|15.0|        8|      400.0|       150|  3761|       9.5|  70|American|[8.0,400.0,150.0,...|\n",
      "|10.0|        8|      307.0|       200|  4376|      15.0|  70|American|[8.0,307.0,200.0,...|\n",
      "|15.0|        8|      383.0|       170|  3563|      10.0|  70|American|[8.0,383.0,170.0,...|\n",
      "|11.0|        8|      318.0|       210|  4382|      13.5|  70|American|[8.0,318.0,210.0,...|\n",
      "|10.0|        8|      360.0|       215|  4615|      14.0|  70|American|[8.0,360.0,215.0,...|\n",
      "|15.0|        8|      429.0|       198|  4341|      10.0|  70|American|[8.0,429.0,198.0,...|\n",
      "|21.0|        6|      200.0|        85|  2587|      16.0|  70|American|[6.0,200.0,85.0,2...|\n",
      "|17.0|        8|      302.0|       140|  3449|      10.5|  70|American|[8.0,302.0,140.0,...|\n",
      "| 9.0|        8|      304.0|       193|  4732|      18.5|  70|American|[8.0,304.0,193.0,...|\n",
      "|14.0|        8|      340.0|       160|  3609|       8.0|  70|American|[8.0,340.0,160.0,...|\n",
      "|22.0|        6|      198.0|        95|  2833|      15.5|  70|American|[6.0,198.0,95.0,2...|\n",
      "|14.0|        8|      440.0|       215|  4312|       8.5|  70|American|[8.0,440.0,215.0,...|\n",
      "+----+---------+-----------+----------+------+----------+----+--------+--------------------+\n",
      "only showing top 20 rows\n",
      "\n"
     ]
    }
   ],
   "source": [
    "mpg_transformed_data.show()"
   ]
  },
  {
   "cell_type": "markdown",
   "id": "f970c6e2-6fce-47be-8414-4245bd5eafbb",
   "metadata": {},
   "source": [
    "#### Split the data"
   ]
  },
  {
   "cell_type": "code",
   "execution_count": 11,
   "id": "cb315575-abdb-444d-a63e-20c0f8298caa",
   "metadata": {},
   "outputs": [],
   "source": [
    "# Split data into training and testing sets\n",
    "\n",
    "(training_data, testing_data) = mpg_transformed_data.randomSplit([0.7, 0.3], seed=42)"
   ]
  },
  {
   "cell_type": "code",
   "execution_count": 12,
   "id": "81a24060-c8be-4be7-93e9-9a2598b84c5e",
   "metadata": {},
   "outputs": [
    {
     "name": "stdout",
     "output_type": "stream",
     "text": [
      "+----+---------+-----------+----------+------+----------+----+--------+--------------------+\n",
      "| MPG|Cylinders|Engine Disp|Horsepower|Weight|Accelerate|Year|  Origin|            features|\n",
      "+----+---------+-----------+----------+------+----------+----+--------+--------------------+\n",
      "| 9.0|        8|      304.0|       193|  4732|      18.5|  70|American|[8.0,304.0,193.0,...|\n",
      "|10.0|        8|      307.0|       200|  4376|      15.0|  70|American|[8.0,307.0,200.0,...|\n",
      "|11.0|        8|      318.0|       210|  4382|      13.5|  70|American|[8.0,318.0,210.0,...|\n",
      "|11.0|        8|      350.0|       180|  3664|      11.0|  73|American|[8.0,350.0,180.0,...|\n",
      "|11.0|        8|      400.0|       150|  4997|      14.0|  73|American|[8.0,400.0,150.0,...|\n",
      "+----+---------+-----------+----------+------+----------+----+--------+--------------------+\n",
      "only showing top 5 rows\n",
      "\n"
     ]
    }
   ],
   "source": [
    "training_data.show(5)"
   ]
  },
  {
   "cell_type": "code",
   "execution_count": 13,
   "id": "5a536450-8a7d-422f-92ac-6fc4b80a9553",
   "metadata": {},
   "outputs": [
    {
     "name": "stdout",
     "output_type": "stream",
     "text": [
      "(296, 9)\n"
     ]
    }
   ],
   "source": [
    "print((training_data.count(), len(training_data.columns)))"
   ]
  },
  {
   "cell_type": "markdown",
   "id": "8f610e53-18a7-4114-9a19-becdbf3481c8",
   "metadata": {},
   "source": [
    "#### Build and Train a Linear Regression Model"
   ]
  },
  {
   "cell_type": "code",
   "execution_count": 14,
   "id": "cec36cc8-9dc9-4441-bdcf-7b111e51224b",
   "metadata": {},
   "outputs": [],
   "source": [
    "lr = LinearRegression(featuresCol=\"features\", labelCol=\"MPG\")\n",
    "model = lr.fit(training_data)"
   ]
  },
  {
   "cell_type": "markdown",
   "id": "fbf1e0d3-27e9-43c0-9848-35c1d31ae58c",
   "metadata": {},
   "source": [
    "#### Evaluate the model"
   ]
  },
  {
   "cell_type": "code",
   "execution_count": 15,
   "id": "facd996c-21ed-4c40-8035-91544d09e45d",
   "metadata": {},
   "outputs": [],
   "source": [
    "predictions = model.transform(testing_data)"
   ]
  },
  {
   "cell_type": "markdown",
   "id": "33c8170b-ad34-432f-a6ce-1343c11e0e81",
   "metadata": {},
   "source": [
    "##### R Squared"
   ]
  },
  {
   "cell_type": "code",
   "execution_count": 16,
   "id": "55b7fc97-ef9d-41c4-bafd-136a25183b77",
   "metadata": {},
   "outputs": [
    {
     "name": "stdout",
     "output_type": "stream",
     "text": [
      "R Squared = 0.8046190375720325\n"
     ]
    }
   ],
   "source": [
    "#R-squared (R2): R2 is a statistical measure that represents the proportion of variance\n",
    "#in the dependent variable (target) that is explained by the independent variables (features).\n",
    "#Higher values indicate better performance.\n",
    "\n",
    "evaluator = RegressionEvaluator(labelCol=\"MPG\", predictionCol=\"prediction\", metricName=\"r2\")\n",
    "r2 = evaluator.evaluate(predictions)\n",
    "print(\"R Squared =\", r2)"
   ]
  },
  {
   "cell_type": "markdown",
   "id": "404420d2-88ed-4889-b39e-ad5ada1516d1",
   "metadata": {},
   "source": [
    "##### Root Mean Squared Error"
   ]
  },
  {
   "cell_type": "code",
   "execution_count": 17,
   "id": "2ea8969c-1dad-4d3d-90d4-98892b29115e",
   "metadata": {},
   "outputs": [
    {
     "name": "stdout",
     "output_type": "stream",
     "text": [
      "RMSE = 3.453104969079217\n"
     ]
    }
   ],
   "source": [
    "#Root Mean Squared Error (RMSE): RMSE is the square root of the average of the squared differences\n",
    "#between the predicted and actual values. It measures the average distance between the predicted\n",
    "#and actual values, and lower values indicate better performance.\n",
    "\n",
    "evaluator = RegressionEvaluator(labelCol=\"MPG\", predictionCol=\"prediction\", metricName=\"rmse\")\n",
    "rmse = evaluator.evaluate(predictions)\n",
    "print(\"RMSE =\", rmse)"
   ]
  },
  {
   "cell_type": "markdown",
   "id": "21ab5cd9-9e22-4b49-b7c8-043e3710ec90",
   "metadata": {},
   "source": [
    "##### Mean Absolute Error"
   ]
  },
  {
   "cell_type": "code",
   "execution_count": 18,
   "id": "d971c0fe-ef30-4583-8a02-d675fa54763d",
   "metadata": {},
   "outputs": [
    {
     "name": "stdout",
     "output_type": "stream",
     "text": [
      "MAE = 2.8423911791950123\n"
     ]
    }
   ],
   "source": [
    "#Mean Absolute Error (MAE): MAE is the average of the absolute differences between the predicted and\n",
    "#actual values. It measures the average absolute distance between the predicted and actual values, and\n",
    "#lower values indicate better performance.\n",
    "\n",
    "evaluator = RegressionEvaluator(labelCol=\"MPG\", predictionCol=\"prediction\", metricName=\"mae\")\n",
    "mae = evaluator.evaluate(predictions)\n",
    "print(\"MAE =\", mae)"
   ]
  },
  {
   "cell_type": "markdown",
   "id": "9d9b7dc9-27d9-4d38-bcb9-53d28d77ef98",
   "metadata": {},
   "source": [
    "#### Print co-efficients and intercept of the model"
   ]
  },
  {
   "cell_type": "code",
   "execution_count": 19,
   "id": "3addd741-7d54-466f-b568-4872907cc4d5",
   "metadata": {},
   "outputs": [
    {
     "name": "stdout",
     "output_type": "stream",
     "text": [
      "Co-efficients : [0.030305687302089494,0.006061908700740628,-0.009828535000542295,-0.007283097916234968,0.09113576708847301,0.7895204070387855]\n",
      "Intercept : -16.559085930047306\n"
     ]
    }
   ],
   "source": [
    "print('Co-efficients :', model.coefficients)\n",
    "print('Intercept :', model.intercept)"
   ]
  },
  {
   "cell_type": "code",
   "execution_count": 20,
   "id": "21c84b7a-1710-4833-ac6e-1663359e8eea",
   "metadata": {},
   "outputs": [],
   "source": [
    "spark.stop()"
   ]
  },
  {
   "cell_type": "code",
   "execution_count": null,
   "id": "1f10a991-5a42-4d64-8ca4-54744189d1f9",
   "metadata": {},
   "outputs": [],
   "source": []
  }
 ],
 "metadata": {
  "kernelspec": {
   "display_name": "Python 3 (ipykernel)",
   "language": "python",
   "name": "python3"
  },
  "language_info": {
   "codemirror_mode": {
    "name": "ipython",
    "version": 3
   },
   "file_extension": ".py",
   "mimetype": "text/x-python",
   "name": "python",
   "nbconvert_exporter": "python",
   "pygments_lexer": "ipython3",
   "version": "3.11.6"
  }
 },
 "nbformat": 4,
 "nbformat_minor": 5
}
